{
 "cells": [
  {
   "cell_type": "code",
   "execution_count": 1,
   "metadata": {},
   "outputs": [],
   "source": [
    "import cv2\n",
    "import pytesseract\n",
    "\n",
    "# Read the image file\n",
    "image = cv2.imread('new1.jpg')\n",
    "# Convert to Grayscale Image\n",
    "gray_image = cv2.cvtColor(image, cv2.COLOR_BGR2GRAY)\n",
    "\n",
    "#Canny Edge Detection\n",
    "canny_edge = cv2.Canny(gray_image, 170, 200)\n",
    "\n",
    "# Find contours based on Edges\n",
    "contours, new  = cv2.findContours(canny_edge.copy(), cv2.RETR_LIST, cv2.CHAIN_APPROX_SIMPLE)\n",
    "contours=sorted(contours, key = cv2.contourArea, reverse = True)[:30]\n",
    "\n",
    "# Initialize license Plate contour and x,y coordinates\n",
    "contour_with_license_plate = None\n",
    "license_plate = None\n",
    "x = None\n",
    "y = None\n",
    "w = None\n",
    "h = None\n",
    "\n",
    "# Find the contour with 4 potential corners and creat ROI around it\n",
    "for contour in contours:\n",
    "        # Find Perimeter of contour and it should be a closed contour\n",
    "        perimeter = cv2.arcLength(contour, True)\n",
    "        approx = cv2.approxPolyDP(contour, 0.01 * perimeter, True)\n",
    "        if len(approx) == 4: #see whether it is a Rect\n",
    "            contour_with_license_plate = approx\n",
    "            x, y, w, h = cv2.boundingRect(contour)\n",
    "            license_plate = gray_image[y:y + h, x:x + w]\n",
    "            break\n"
   ]
  },
  {
   "cell_type": "code",
   "execution_count": 2,
   "metadata": {},
   "outputs": [
    {
     "name": "stdout",
     "output_type": "stream",
     "text": [
      "x,y,w,h:--- 348 288 433 145\n"
     ]
    }
   ],
   "source": [
    "# Removing Noise from the detected image, before sending to Tesseract\n",
    "license_plate = cv2.bilateralFilter(license_plate, 11, 17, 17)\n",
    "(thresh, license_plate) = cv2.threshold(license_plate, 150, 180, cv2.THRESH_BINARY)\n",
    "print(\"x,y,w,h:---\",x,y,w,h)"
   ]
  },
  {
   "cell_type": "code",
   "execution_count": 3,
   "metadata": {},
   "outputs": [
    {
     "data": {
      "text/plain": [
       "-1"
      ]
     },
     "execution_count": 3,
     "metadata": {},
     "output_type": "execute_result"
    }
   ],
   "source": [
    "image = cv2.rectangle(image, (x,y), (x+w,y+h), (0,0,255), 3)\n",
    "cv2.imshow(\"License Plate Detection\",image)\n",
    "cv2.waitKey(0)\n"
   ]
  },
  {
   "cell_type": "code",
   "execution_count": null,
   "metadata": {},
   "outputs": [],
   "source": [
    "\n",
    "#Text Recognition\n",
    "text = pytesseract.image_to_string(license_plate)\n",
    "#Draw License Plate and write the Text\n",
    " \n",
    "image = cv2.putText(image, text, (x-100,y-50), cv2.FONT_HERSHEY_SIMPLEX, 3, (0,255,0), 6, cv2.LINE_AA)\n",
    "\n",
    "print(\"License Plate :\", text)\n",
    "cv2.imshow(\"License Plate Detection\",image)\n",
    "cv2.waitKey(0)\n"
   ]
  },
  {
   "cell_type": "code",
   "execution_count": null,
   "metadata": {},
   "outputs": [],
   "source": []
  },
  {
   "cell_type": "code",
   "execution_count": null,
   "metadata": {},
   "outputs": [],
   "source": [
    "import cv2\n",
    "import pytesseract\n",
    "\n",
    "# Read the image file\n",
    "image = cv2.imread('new1.jpg')\n",
    "# Convert to Grayscale Image\n",
    "gray_image = cv2.cvtColor(image, cv2.COLOR_BGR2GRAY)\n",
    "\n",
    "#Canny Edge Detection\n",
    "canny_edge = cv2.Canny(gray_image, 170, 200)\n",
    "\n",
    "# Find contours based on Edges\n",
    "contours, new  = cv2.findContours(canny_edge.copy(), cv2.RETR_LIST, cv2.CHAIN_APPROX_SIMPLE)\n",
    "contours=sorted(contours, key = cv2.contourArea, reverse = True)[:30]\n",
    "\n",
    "# Initialize license Plate contour and x,y coordinates\n",
    "contour_with_license_plate = None\n",
    "license_plate = None\n",
    "x = None\n",
    "y = None\n",
    "w = None\n",
    "h = None\n",
    "\n",
    "# Find the contour with 4 potential corners and creat ROI around it\n",
    "for contour in contours:\n",
    "        # Find Perimeter of contour and it should be a closed contour\n",
    "        perimeter = cv2.arcLength(contour, True)\n",
    "        approx = cv2.approxPolyDP(contour, 0.01 * perimeter, True)\n",
    "        if len(approx) == 4: #see whether it is a Rect\n",
    "            contour_with_license_plate = approx\n",
    "            x, y, w, h = cv2.boundingRect(contour)\n",
    "            license_plate = gray_image[y:y + h, x:x + w]\n",
    "            break\n",
    "# Removing Noise from the detected image, before sending to Tesseract\n",
    "license_plate = cv2.bilateralFilter(license_plate, 11, 17, 17)\n",
    "(thresh, license_plate) = cv2.threshold(license_plate, 150, 180, cv2.THRESH_BINARY)\n",
    "print(\"x,y,w,h:---\",x,y,w,h)\n",
    "image = cv2.rectangle(image, (x,y), (x+w,y+h), (0,0,255), 3)\n",
    "cv2.imshow(\"License Plate Detection\",image)\n",
    "cv2.waitKey(0)"
   ]
  }
 ],
 "metadata": {
  "kernelspec": {
   "display_name": "Python 3",
   "language": "python",
   "name": "python3"
  },
  "language_info": {
   "codemirror_mode": {
    "name": "ipython",
    "version": 3
   },
   "file_extension": ".py",
   "mimetype": "text/x-python",
   "name": "python",
   "nbconvert_exporter": "python",
   "pygments_lexer": "ipython3",
   "version": "3.6.4"
  }
 },
 "nbformat": 4,
 "nbformat_minor": 2
}
